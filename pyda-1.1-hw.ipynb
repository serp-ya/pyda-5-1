{
 "cells": [
  {
   "cell_type": "markdown",
   "metadata": {},
   "source": [
    "**Задание 1**. Даны 2 строки: *long_phrase* и *short_phrase*. \n",
    "Напишите код, который проверяет действительно ли длинная фраза *long_phrase* длиннее короткой *short_phrase*. И выводит *True* или *False* в зависимости от результата сравнения."
   ]
  },
  {
   "cell_type": "code",
   "execution_count": 2,
   "metadata": {},
   "outputs": [],
   "source": [
    "long_phrase = 'Насколько проще было бы писать программы, если бы не заказчики'\n",
    "short_phrase = '640Кб должно хватить для любых задач. Билл Гейтс (по легенде)'"
   ]
  },
  {
   "cell_type": "code",
   "execution_count": 3,
   "metadata": {},
   "outputs": [
    {
     "data": {
      "text/plain": [
       "True"
      ]
     },
     "execution_count": 3,
     "metadata": {},
     "output_type": "execute_result"
    }
   ],
   "source": [
    "len(long_phrase) > len(short_phrase)"
   ]
  },
  {
   "cell_type": "markdown",
   "metadata": {},
   "source": [
    "**Задание 2**. Дано значение объема файла в байтах. Напишите перевод этого значения в мегабайты в формате: \"*Объем файла равен 213.68Mb*\""
   ]
  },
  {
   "cell_type": "code",
   "execution_count": 4,
   "metadata": {},
   "outputs": [
    {
     "name": "stdout",
     "output_type": "stream",
     "text": [
      "Введите объём файла в байтах: 23534263456\n"
     ]
    },
    {
     "data": {
      "text/plain": [
       "'Объем файла равен: 22444.02Mb'"
      ]
     },
     "execution_count": 4,
     "metadata": {},
     "output_type": "execute_result"
    }
   ],
   "source": [
    "INPUT_FILE_SIZE_IN_BYTES_MESAGE = 'Введите объём файла в байтах: '\n",
    "GRADE_SIZE = 1024\n",
    "\n",
    "file_size_in_bytes = int(input(INPUT_FILE_SIZE_IN_BYTES_MESAGE))\n",
    "\n",
    "def change_grade(file_size, grades_count):\n",
    "    if grades_count < 1:\n",
    "        return file_size\n",
    "    else:\n",
    "        return change_grade(file_size / GRADE_SIZE, grades_count - 1)\n",
    "    \n",
    "file_size_in_mbytes = change_grade(file_size_in_bytes, 2)\n",
    "\n",
    "'Объем файла равен: {}Mb'.format(\n",
    "    round(file_size_in_mbytes, 2)\n",
    ")"
   ]
  },
  {
   "cell_type": "markdown",
   "metadata": {},
   "source": [
    "**Задание 3**. Разработать приложение для определения знака зодиака по дате рождения. Пример:\n",
    "\n",
    "Введите месяц: март\n",
    "\n",
    "Введите число: 6\n",
    "\n",
    "Вывод:\n",
    "Рыбы"
   ]
  },
  {
   "cell_type": "code",
   "execution_count": 10,
   "metadata": {},
   "outputs": [
    {
     "name": "stdout",
     "output_type": "stream",
     "text": [
      "Введите месяц рождения: декабрь\n",
      "Введите дату рождения: 1\n",
      "Змееносец\n"
     ]
    }
   ],
   "source": [
    "from datetime import datetime\n",
    "\n",
    "DUMMY_YEAR = 2019\n",
    "MONTHS_NUMBERS = {\n",
    "    'январь': 1,\n",
    "    'февраль': 2,\n",
    "    'март': 3,\n",
    "    'апрель': 4,\n",
    "    'май': 5,\n",
    "    'июнь': 6,\n",
    "    'июль': 7,\n",
    "    'август': 8,\n",
    "    'сентябрь': 9,\n",
    "    'октябрь': 10,\n",
    "    'ноябрь': 11,\n",
    "    'декабрь': 12,\n",
    "}\n",
    "\n",
    "def create_zodiac_date(date_from, date_to, zodiac_name):\n",
    "    return {\n",
    "        'from': date_from,\n",
    "        'to': date_to,\n",
    "        'name': zodiac_name,\n",
    "    }\n",
    "\n",
    "def detect_zodiac(zodiac_list, birth_date) -> str:\n",
    "    for zodiac in zodiac_list:        \n",
    "        if (zodiac['from'] <= birth_date) and (zodiac['to'] >= birth_date):\n",
    "            return zodiac['name']\n",
    "\n",
    "    return None\n",
    "\n",
    "create_date = lambda month, day: datetime(DUMMY_YEAR, month, day)\n",
    "zodiac_dates_list = [\n",
    "    create_zodiac_date(\n",
    "      date_from=create_date(MONTHS_NUMBERS['апрель'], 19),\n",
    "      date_to=create_date(MONTHS_NUMBERS['май'], 13),\n",
    "      zodiac_name = 'Овен',\n",
    "    ),\n",
    "    create_zodiac_date(\n",
    "      date_from=create_date(MONTHS_NUMBERS['май'], 14),\n",
    "      date_to=create_date(MONTHS_NUMBERS['июнь'], 19),\n",
    "      zodiac_name = 'Телец',\n",
    "    ),\n",
    "    create_zodiac_date(\n",
    "      date_from=create_date(MONTHS_NUMBERS['июнь'], 20),\n",
    "      date_to=create_date(MONTHS_NUMBERS['июль'], 20),\n",
    "      zodiac_name = 'Близнецы',\n",
    "    ),\n",
    "    create_zodiac_date(\n",
    "      date_from=create_date(MONTHS_NUMBERS['июль'], 21),\n",
    "      date_to=create_date(MONTHS_NUMBERS['август'], 9),\n",
    "      zodiac_name = 'Рак',\n",
    "    ),\n",
    "    create_zodiac_date(\n",
    "      date_from=create_date(MONTHS_NUMBERS['август'], 10),\n",
    "      date_to=create_date(MONTHS_NUMBERS['сентябрь'], 15),\n",
    "      zodiac_name = 'Лев',\n",
    "    ),\n",
    "    create_zodiac_date(\n",
    "      date_from=create_date(MONTHS_NUMBERS['сентябрь'], 16),\n",
    "      date_to=create_date(MONTHS_NUMBERS['октябрь'], 30),\n",
    "      zodiac_name = 'Дева',\n",
    "    ),\n",
    "    create_zodiac_date(\n",
    "      date_from=create_date(MONTHS_NUMBERS['октябрь'], 31),\n",
    "      date_to=create_date(MONTHS_NUMBERS['ноябрь'], 22),\n",
    "      zodiac_name = 'Весы',\n",
    "    ),\n",
    "    create_zodiac_date(\n",
    "      date_from=create_date(MONTHS_NUMBERS['ноябрь'], 23),\n",
    "      date_to=create_date(MONTHS_NUMBERS['ноябрь'], 29),\n",
    "      zodiac_name = 'Скорпион',\n",
    "    ),\n",
    "    create_zodiac_date(\n",
    "      date_from=create_date(MONTHS_NUMBERS['ноябрь'], 30),\n",
    "      date_to=create_date(MONTHS_NUMBERS['декабрь'], 17),\n",
    "      zodiac_name = 'Змееносец',\n",
    "    ),\n",
    "    create_zodiac_date(\n",
    "      date_from=create_date(MONTHS_NUMBERS['декабрь'], 18),\n",
    "      date_to=create_date(MONTHS_NUMBERS['январь'], 18),\n",
    "      zodiac_name = 'Стрелец',\n",
    "    ),\n",
    "    create_zodiac_date(\n",
    "      date_from=create_date(MONTHS_NUMBERS['январь'], 19),\n",
    "      date_to=create_date(MONTHS_NUMBERS['февраль'], 15),\n",
    "      zodiac_name = 'Козерог',\n",
    "    ),\n",
    "    create_zodiac_date(\n",
    "      date_from=create_date(MONTHS_NUMBERS['февраль'], 16),\n",
    "      date_to=create_date(MONTHS_NUMBERS['март'], 11),\n",
    "      zodiac_name = 'Водолей',\n",
    "    ),\n",
    "    create_zodiac_date(\n",
    "      date_from=create_date(MONTHS_NUMBERS['март'], 12),\n",
    "      date_to=create_date(MONTHS_NUMBERS['апрель'], 18),\n",
    "      zodiac_name = 'Рыбы',\n",
    "    ),\n",
    "    # данные были выбраны из таблицы по ссылке\n",
    "    # https://ru.wikipedia.org/wiki/%D0%97%D0%BD%D0%B0%D0%BA%D0%B8_%D0%B7%D0%BE%D0%B4%D0%B8%D0%B0%D0%BA%D0%B0    \n",
    "]\n",
    "\n",
    "if __name__ == '__main__':\n",
    "    birth_month: str = input('Введите месяц рождения: ')\n",
    "    birth_day: int = int(input('Введите дату рождения: '))\n",
    "\n",
    "    number_of_birth_month: int = MONTHS_NUMBERS.get(birth_month.lower())\n",
    "\n",
    "    if not number_of_birth_month:\n",
    "        print('Проверьте корректность ввода месяца рождения')\n",
    "    else:\n",
    "        zodiac_name = detect_zodiac(zodiac_dates_list, create_date(number_of_birth_month, birth_day))\n",
    "\n",
    "        if not zodiac_name:\n",
    "            print('Знак зодиака не определён! Проверьте корректность введённых значений')\n",
    "        else:\n",
    "            print(zodiac_name)"
   ]
  },
  {
   "cell_type": "markdown",
   "metadata": {},
   "source": [
    "**Задание 4**. Нужно разработать приложение для финансового планирования.\n",
    "Приложение учитывает сколько уходит на ипотеку, \"на жизнь\" и сколько нужно отложить на пенсию.\n",
    "Пользователь вводит:\n",
    "- заработанную плату в месяц.\n",
    "- сколько процентов от ЗП уходит на ипотеку.\n",
    "- сколько процентов от ЗП уходит \"на жизнь\".\n",
    "- сколько раз приходит премия в год.\n",
    "\n",
    "Остальная часть заработанной платы откладывается на пенсию.\n",
    "\n",
    "Также пользователю приходит премия в размере зарплаты, от которой половина уходит на отпуск, а вторая половина откладывается.\n",
    "\n",
    "Программа должна учитывать сколько премий было в год.\n",
    "\n",
    "Нужно вывести сколько денег тратит пользователь на ипотеку и сколько он накопит за год.\n",
    "\n",
    "Пример:\n",
    "\n",
    "Введите заработанную плату в месяц: 100000\n",
    "\n",
    "Введите сколько процентов уходит на ипотеку: 30\n",
    "\n",
    "Введите сколько процентов уходит на жизнь: 50\n",
    "\n",
    "Введите количество премий за год: 2\n",
    "\n",
    "Вывод:\n",
    "На ипотеку было потрачено: 360000 рублей\n",
    "Было накоплено: 340000 рублей"
   ]
  },
  {
   "cell_type": "code",
   "execution_count": 20,
   "metadata": {},
   "outputs": [
    {
     "name": "stdout",
     "output_type": "stream",
     "text": [
      "Введите заработанную плату в месяц: 120000\n",
      "Введите сколько процентов уходит на ипотеку: 15\n",
      "Введите сколько процентов уходит на жизнь: 60\n",
      "Введите количество премий за год: 0\n",
      "На ипотеку было потрачено: 216000 рублей\n",
      "Было накоплено: 360000 рублей\n"
     ]
    }
   ],
   "source": [
    "MONTHS_IN_YEAR = 12\n",
    "\n",
    "def calc_percent(income: int, percent: int) -> int:\n",
    "    return income * (percent / 100)\n",
    "\n",
    "def input_int(question: str) -> int:\n",
    "    return int(input(question))\n",
    "    \n",
    "salary = input_int('Введите заработанную плату в месяц: ')\n",
    "to_mortgage_percent = input_int('Введите сколько процентов уходит на ипотеку: ')\n",
    "to_live_percent = input_int('Введите сколько процентов уходит на жизнь: ')\n",
    "prize_per_year_count = input_int('Введите количество премий за год: ')\n",
    "\n",
    "annual_income = salary * MONTHS_IN_YEAR\n",
    "to_mortgage_by_year = calc_percent(annual_income, to_mortgage_percent)\n",
    "to_live_by_year = calc_percent(annual_income, to_live_percent)\n",
    "to_pension_by_year = annual_income - to_mortgage_by_year - to_live_by_year + (salary * prize_per_year_count / 2)\n",
    "\n",
    "print('На ипотеку было потрачено: {} рублей'.format(int(to_mortgage_by_year)))\n",
    "print('Было накоплено: {} рублей'.format(int(to_pension_by_year)))"
   ]
  }
 ],
 "metadata": {
  "kernelspec": {
   "display_name": "Python 3",
   "language": "python",
   "name": "python3"
  },
  "language_info": {
   "codemirror_mode": {
    "name": "ipython",
    "version": 3
   },
   "file_extension": ".py",
   "mimetype": "text/x-python",
   "name": "python",
   "nbconvert_exporter": "python",
   "pygments_lexer": "ipython3",
   "version": "3.7.3"
  }
 },
 "nbformat": 4,
 "nbformat_minor": 2
}
